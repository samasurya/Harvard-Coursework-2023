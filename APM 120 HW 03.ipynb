{
 "cells": [
  {
   "cell_type": "code",
   "execution_count": 18,
   "id": "11a07d37",
   "metadata": {},
   "outputs": [],
   "source": [
    "import numpy as np\n",
    "import scipy.linalg"
   ]
  },
  {
   "cell_type": "code",
   "execution_count": 75,
   "id": "2abace3b",
   "metadata": {},
   "outputs": [
    {
     "name": "stdout",
     "output_type": "stream",
     "text": [
      "lambdas/eigen values: [-0.75+1.99994584j -0.75-1.99994584j]\n",
      "S/eigen vectors =  [[0.83158055+0.j         0.83158055-0.j        ]\n",
      " [0.01088413-0.55529751j 0.01088413+0.55529751j]]\n",
      "S^-1 =  [[ 6.01264666e-01-0.01178511j  1.40643222e-18+0.90041822j]\n",
      " [ 6.01264666e-01+0.01178511j -1.40643222e-18-0.90041822j]]\n",
      "The coefficients a1, a2 based on the initial conditions [-5,2] are S^-1 * x0:  [[-3.00632333+1.85976198j]\n",
      " [-3.00632333-1.85976198j]]\n"
     ]
    }
   ],
   "source": [
    "A=np.array([[-0.7108,-2.995],[1.336,-0.7892]])\n",
    "x0= np.array([[-5], [2]])\n",
    "D, V = np.linalg.eig(A)\n",
    "V_inv = np.linalg.inv(V)\n",
    "print(\"lambdas/eigen values:\",D); print(\"S/eigen vectors = \",V); print(\"S^-1 = \",V_inv)\n",
    "print(\"The coefficients a1, a2 based on the initial conditions [-5,2] are S^-1 * x0: \", V_inv @ x0)\n"
   ]
  },
  {
   "cell_type": "code",
   "execution_count": 80,
   "id": "6e6d2ac9",
   "metadata": {},
   "outputs": [
    {
     "name": "stdout",
     "output_type": "stream",
     "text": [
      "eigen values/lambdas of A: \n",
      "[-0.75+1.99994584j -0.75-1.99994584j]\n",
      "eigen vectors/S of A are:\n",
      "[[0.83158055+0.j         0.83158055-0.j        ]\n",
      " [0.01088413-0.55529751j 0.01088413+0.55529751j]]\n",
      "S^-1 = \n",
      "[[ 6.01264666e-01-0.01178511j  1.40643222e-18+0.90041822j]\n",
      " [ 6.01264666e-01+0.01178511j -1.40643222e-18-0.90041822j]]\n",
      "[e^(lambda1 * t),e^(lambda2 * t)] * I = \n",
      "[[-0.1458659-0.16884966j  0.       +0.j        ]\n",
      " [ 0.       +0.j         -0.1458659+0.16884966j]]\n",
      "e^At using scipy.linalg.expm(A*2) = \n",
      "[[-0.14917544  0.25285922]\n",
      " [-0.11279463 -0.14255635]]\n",
      "e^At using S * lbs_2 * S^-1 = \n",
      "[[-0.14917544+0.j  0.25285922+0.j]\n",
      " [-0.11279463+0.j -0.14255635+0.j]]\n",
      "Therefore, e^At = S * lbs_2 * S^-1\n"
     ]
    }
   ],
   "source": [
    "A=np.array([[-0.7108,-2.995],[1.336,-0.7892]])\n",
    "x0= np.array([[-5], [2]])\n",
    "D, V = np.linalg.eig(A)\n",
    "V_inv = np.linalg.inv(V)\n",
    "print(\"eigen values/lambdas of A: \");print(D); print(\"eigen vectors/S of A are:\");print(V);\n",
    "print(\"S^-1 = \"); print(V_inv)\n",
    "lbd_2 = np.array([[np.exp(D[0]*2),0], [0,np.exp(D[1]*2)]])\n",
    "print(\"[e^(lambda1 * t),e^(lambda2 * t)] * I = \"); print(lbd_2)\n",
    "expa2 = scipy.linalg.expm(A*2)\n",
    "print(\"e^At using scipy.linalg.expm(A*2) = \"); print(expa2)\n",
    "print(\"e^At using S * lbs_2 * S^-1 = \"); print(V @ lbd_2 @ V_inv)\n",
    "print(\"Therefore, e^At = S * lbs_2 * S^-1\")"
   ]
  },
  {
   "cell_type": "code",
   "execution_count": 81,
   "id": "7fa009cc",
   "metadata": {},
   "outputs": [
    {
     "name": "stdout",
     "output_type": "stream",
     "text": [
      "(e^(A*2))^-1= \n",
      "[[-2.86332091 -5.07881314]\n",
      " [ 2.26554069 -2.9962688 ]]\n",
      "New I.C. for x(t=2) = [-2,-2] is (e^(A*2))^-1 @ x(t=2) = \n",
      "[[15.8842681 ]\n",
      " [ 1.46145623]]\n"
     ]
    }
   ],
   "source": [
    "x2 = np.array([[-2], [-2]])\n",
    "x0_1 = np.linalg.inv(expa2) @ x2\n",
    "print(\"(e^(A*2))^-1= \");print(np.linalg.inv(expa2))\n",
    "print(\"New I.C. for x(t=2) = [-2,-2] is (e^(A*2))^-1 @ x(t=2) = \"); print(x0_1)"
   ]
  },
  {
   "cell_type": "code",
   "execution_count": 83,
   "id": "3a018101",
   "metadata": {},
   "outputs": [
    {
     "name": "stdout",
     "output_type": "stream",
     "text": [
      "Matrix A = \n",
      "[[-64.0859 -22.6535]\n",
      " [177.346   62.6859]]\n",
      "Eigen Values: \n",
      "[-1.21449763 -0.18550237]\n",
      "Eigen Vectors:\n",
      "[[-0.33898168  0.33413689]\n",
      " [ 0.94079297 -0.94252456]]\n",
      "B = e^(A*1.5) = \n",
      "[[-36.21474262 -13.10698802]\n",
      " [102.609835    37.13359048]]\n",
      "Propogator matrix = B.T @ B = \n",
      "[[11840.28582223  4284.93778941]\n",
      " [ 4284.93778941  1550.69667656]]\n",
      "Eigen Values of Propogator = \n",
      "[1.33909825e+04 1.11982672e-06]\n",
      "Eigen Vectors of Propogator = \n",
      "[[ 0.94031826 -0.34029628]\n",
      " [ 0.34029628  0.94031826]]\n",
      "lambda1 > lambda2 so e1 is the optimal initial condition (x0 = e1) for maximal amplitude at t = 1.5\n",
      "Therefore, Solution at t = 1.5 with e1 as initial conditions is B * e1 = \n",
      "[-38.51364326 109.12232485]\n",
      "S^-1 = \n",
      "[[-183.19514458  -64.94499818]\n",
      " [-182.85858307  -65.88666318]]\n",
      "coefficients a1, a2 = S^-1 @ x0 = S^-1 @ e1 =\n",
      "[-194.36228201 -194.36625218]\n"
     ]
    }
   ],
   "source": [
    "A1 = np.array([[ -64.0859, -22.6535]\n",
    ",[177.346, 62.6859]])\n",
    "print(\"Matrix A = \"); print(A1)\n",
    "D1, V1 = np.linalg.eig(A1)\n",
    "print(\"Eigen Values: \"); print(D1); print(\"Eigen Vectors:\"); print(V1)\n",
    "B = scipy.linalg.expm(A1*1.5)\n",
    "print(\"B = e^(A*1.5) = \"); print(B)\n",
    "prop = B.T @ B\n",
    "print(\"Propogator matrix = B.T @ B = \");print(prop)\n",
    "D2, V2 = np.linalg.eig(prop)\n",
    "print(\"Eigen Values of Propogator = \");print(D2);print(\"Eigen Vectors of Propogator = \"); print(V2)\n",
    "print(\"lambda1 > lambda2 so e1 is the optimal initial condition (x0 = e1) for maximal amplitude at t = 1.5\")\n",
    "print(\"Therefore, Solution at t = 1.5 with e1 as initial conditions is B * e1 = \");print(B @ V2[:,0])\n",
    "x0_1 = V2[:,0]\n",
    "V1_inv = np.linalg.inv(V1)\n",
    "print(\"S^-1 = \"); print(V1_inv)\n",
    "coefs = V1_inv @ x0_1\n",
    "print(\"coefficients a1, a2 = S^-1 @ x0 = S^-1 @ e1 =\"); print(coefs)"
   ]
  },
  {
   "cell_type": "code",
   "execution_count": null,
   "id": "b101eece",
   "metadata": {},
   "outputs": [],
   "source": []
  },
  {
   "cell_type": "code",
   "execution_count": 64,
   "id": "595926ab",
   "metadata": {},
   "outputs": [
    {
     "data": {
      "text/plain": [
       "Text(0, 0.5, '$|x(t)|$')"
      ]
     },
     "execution_count": 64,
     "metadata": {},
     "output_type": "execute_result"
    },
    {
     "data": {
      "image/png": "[encoded data removed]",
      "text/plain": [
       "<Figure size 720x360 with 1 Axes>"
      ]
     },
     "metadata": {
      "needs_background": "light"
     },
     "output_type": "display_data"
    }
   ],
   "source": [
    "import matplotlib.pyplot as plt\n",
    "import matplotlib\n",
    "\n",
    "t_range=np.arange(0,10,0.1)\n",
    "N=np.size(t_range)\n",
    "xnorm=np.zeros((N,1))\n",
    "coef1 = np.zeros((N,1))\n",
    "coef2 = np.zeros((N,1))\n",
    "i=-1\n",
    "for t in t_range:\n",
    "    i=i+1\n",
    "    xnorm[i]=scipy.linalg.norm(scipy.linalg.expm(A1*t)@x0_1,ord=2)\n",
    "    coef1[i] = coefs[0] * np.exp(D1[0]*t)\n",
    "    coef2[i] = coefs[1] * np.exp(D1[1]*t)\n",
    "fig1=plt.figure(figsize =(10,5)); plt.clf\n",
    "plt.plot(t_range,xnorm, label = \"|x(t)|\")\n",
    "plt.plot(t_range, coef1, label = \"a1*e^lambda1*t\")\n",
    "plt.plot(t_range, coef2, label = \"a2*e^lambda2*t\")\n",
    "plt.legend()\n",
    "plt.xlabel('$t$',fontsize=18)\n",
    "plt.ylabel('$|x(t)|$',fontsize=18)\n",
    "# plt.title('transient amplification',fontsize=18)"
   ]
  },
  {
   "cell_type": "code",
   "execution_count": 93,
   "id": "af24e0d5",
   "metadata": {},
   "outputs": [
    {
     "name": "stdout",
     "output_type": "stream",
     "text": [
      "Matrix A = \n",
      "[[  5  -1  -1]\n",
      " [-10   5   3]\n",
      " [ 16  -2  -1]]\n",
      "Eigen values of A: \n",
      "[2.99998744+0.00000000e+00j 3.00000628+1.08756008e-05j\n",
      " 3.00000628-1.08756008e-05j]\n",
      "Eigen vectors of A: \n",
      "[[ 0.13736004+0.00000000e+00j -0.13736082-4.97958413e-07j\n",
      "  -0.13736082+4.97958413e-07j]\n",
      " [-0.5494419 +0.00000000e+00j  0.54944243+4.97967793e-07j\n",
      "   0.54944243-4.97967793e-07j]\n",
      " [ 0.82416371+0.00000000e+00j -0.82416322+0.00000000e+00j\n",
      "  -0.82416322-0.00000000e+00j]]\n",
      "We can see that all the eigen values and the eigen vectors are almost same values.\n",
      "Determinant of the S matrix (Matrix with Eigen vectors as columns) = \n",
      "(-5.21115196708536e-29+2.667152547903134e-17j)\n",
      "We can also see that the determinant is 0.\n",
      "Thus we cannot use this S matrix to diagonalize A because it is singular.\n",
      "Solutions tod ODEs using matrix exponentiation assume that the matrix can be diagonalized.\n",
      "Since the matrix has same eigen values and vectors, A cannot be diagonalized as S * Lambda I * S^-1 since S^-1 cannot be computed.\n",
      "So we can use Jordan form of matrix A as a substitute to diagonalize by computing the eigen vectors and values of Jordan form\n",
      "In the simple case considered here, the Jordan form has the eigenvalues on the diagonal and ones just above the diagonal\n",
      "That is, we need to find a matrix M, such that M^−1AM = J. where J is Jordan form.\n"
     ]
    }
   ],
   "source": [
    "mat = np.array([[5, -1, -1], [-10, 5, 3], [16, -2, -1]])\n",
    "print(\"Matrix A = \");print(mat)\n",
    "l,e = np.linalg.eig(mat)\n",
    "print(\"Eigen values of A: \"); print(l); print(\"Eigen vectors of A: \"); print(e)\n",
    "print(\"We can see that all the eigen values and the eigen vectors are almost same values.\")\n",
    "print(\"Determinant of the S matrix (Matrix with Eigen vectors as columns) = \");print(np.linalg.det(e))\n",
    "print(\"We can also see that the determinant is 0.\")\n",
    "print(\"Thus we cannot use this S matrix to diagonalize A because it is singular.\")\n",
    "print(\"Solutions tod ODEs using matrix exponentiation assume that the matrix can be diagonalized.\")\n",
    "print(\"Since the matrix has same eigen values and vectors, A cannot be diagonalized as S * Lambda I * S^-1 since S^-1 cannot be computed.\")\n",
    "print(\"So we can use Jordan form of matrix A as a substitute to diagonalize by computing the eigen vectors and values of Jordan form\")\n",
    "print(\"In the simple case considered here, the Jordan form has the eigenvalues on the diagonal and ones just above the diagonal\")\n",
    "print(\"That is, we need to find a matrix M, such that M^−1AM = J. where J is Jordan form.\")"
   ]
  },
  {
   "cell_type": "code",
   "execution_count": 95,
   "id": "b9cdb171",
   "metadata": {},
   "outputs": [
    {
     "name": "stdout",
     "output_type": "stream",
     "text": [
      "Jordan form of matrix A, J = \n",
      "[[3. 1. 0.]\n",
      " [0. 3. 1.]\n",
      " [0. 0. 3.]]\n"
     ]
    }
   ],
   "source": [
    "from sympy import Matrix\n",
    "mat1 = Matrix(mat)\n",
    "m,j = mat1.jordan_form()\n",
    "m = np.array(m).astype(float)\n",
    "j = np.array(j).astype(float)\n",
    "print(\"Jordan form of matrix A, J = \");print(j)"
   ]
  },
  {
   "cell_type": "code",
   "execution_count": 102,
   "id": "e887a778",
   "metadata": {},
   "outputs": [
    {
     "name": "stdout",
     "output_type": "stream",
     "text": [
      "A1 = A + noise = \n",
      "[[  5.         -1.         -0.9999999]\n",
      " [-10.          5.          3.       ]\n",
      " [ 16.         -2.         -1.       ]]\n",
      "Eigen Values / Eigen Vectors of A1 are: \n",
      "[2.98932323+0.j         3.00533839+0.00915943j 3.00533839-0.00915943j]\n",
      "[[ 0.13691629+0.j         -0.13758255-0.00041857j -0.13758255+0.00041857j]\n",
      " [-0.54914253+0.j          0.54959184+0.00042528j  0.54959184-0.00042528j]\n",
      " [ 0.82443703+0.j         -0.82402639+0.j         -0.82402639-0.j        ]]\n",
      "A small addition of noise to A gave us slightly different eigen values and vectors compared to A.\n",
      "The eigen vectors are now distinct and independent. So we can proceed with given matrix. Since the need to use Jordan form is so sensitive to small perturbations, it is not used that widely. Instead we can just add a small noise to matrix to make eigen vectors non singular amnd go with that instead of performing an elaborate procedure to convert and get Jordan Form.\n"
     ]
    }
   ],
   "source": [
    "noise = np.array([[0, 0, 0.0000001], [0, 0, 0], [0, 0, 0]])\n",
    "mat2 = mat+noise\n",
    "print(\"A1 = A + noise = \"); print(mat2)\n",
    "ev, el = np.linalg.eig(mat2)\n",
    "print(\"Eigen Values / Eigen Vectors of A1 are: \");print(ev); print(el)\n",
    "print(\"A small addition of noise to A gave us slightly different eigen values and vectors compared to A.\")\n",
    "print(\"The eigen vectors are now distinct and independent. So we can proceed with given matrix. Since the need to use Jordan form is so sensitive to small perturbations, it is not used that widely. Instead we can just add a small noise to matrix to make eigen vectors non singular amnd go with that instead of performing an elaborate procedure to convert and get Jordan Form.\")\n"
   ]
  },
  {
   "cell_type": "code",
   "execution_count": null,
   "id": "2b90a9f6",
   "metadata": {},
   "outputs": [],
   "source": []
  },
  {
   "cell_type": "code",
   "execution_count": null,
   "id": "c9f2770b",
   "metadata": {},
   "outputs": [],
   "source": []
  }
 ],
 "metadata": {
  "kernelspec": {
   "display_name": "Python 3 (ipykernel)",
   "language": "python",
   "name": "python3"
  },
  "language_info": {
   "codemirror_mode": {
    "name": "ipython",
    "version": 3
   },
   "file_extension": ".py",
   "mimetype": "text/x-python",
   "name": "python",
   "nbconvert_exporter": "python",
   "pygments_lexer": "ipython3",
   "version": "3.9.12"
  }
 },
 "nbformat": 4,
 "nbformat_minor": 5
}
