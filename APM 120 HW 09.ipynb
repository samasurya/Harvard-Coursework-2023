{
 "cells": [
  {
   "cell_type": "code",
   "execution_count": 2,
   "id": "b155e952",
   "metadata": {},
   "outputs": [],
   "source": [
    "import numpy as np\n",
    "import matplotlib.pyplot as plt\n",
    "import matplotlib"
   ]
  },
  {
   "cell_type": "code",
   "execution_count": 3,
   "id": "100ded7f",
   "metadata": {},
   "outputs": [],
   "source": [
    "X =np.array([[-3.6, 1.8, -7.2, -9.6, 0.5, -0.9, -2.1, -2.8, -3.2, -2.2, 1.3, -3.6, -6.3, -0.9, -2.4, 5.2],\n",
    "[7.8, -7.5, -0.6, 4.5, 0.9, 0, -7, -6.8, -6.4, -9.3, -5.9, -2.5, -7.9, -6.1, 8.6, 5.4]])"
   ]
  },
  {
   "cell_type": "code",
   "execution_count": 4,
   "id": "2c3c2ad7",
   "metadata": {},
   "outputs": [],
   "source": [
    "Y= np.array([[1], [-1], [1], [1], [-1], [-1], [-1], [-1], [-1], [-1], [-1], [-1], [-1], [-1], [1],[1]])"
   ]
  },
  {
   "cell_type": "code",
   "execution_count": 61,
   "id": "2b870619",
   "metadata": {
    "scrolled": true
   },
   "outputs": [
    {
     "data": {
      "text/plain": [
       "array([[11.908]])"
      ]
     },
     "execution_count": 61,
     "metadata": {},
     "output_type": "execute_result"
    }
   ],
   "source": [
    "np.array([[1.06],[1.82],[1.2 ]]).T @ np.array([[-2.4], [8.6], [-1]])"
   ]
  },
  {
   "cell_type": "code",
   "execution_count": 17,
   "id": "d0a29407",
   "metadata": {
    "scrolled": false
   },
   "outputs": [
    {
     "name": "stdout",
     "output_type": "stream",
     "text": [
      "W vector 1st Estimate\n",
      "[[-0.26]\n",
      " [ 0.94]\n",
      " [ 1.  ]]\n",
      "W vector 2nd Estimate\n",
      "[[-1.54]\n",
      " [ 2.7 ]\n",
      " [ 2.  ]]\n"
     ]
    },
    {
     "data": {
      "text/plain": [
       "<matplotlib.legend.Legend at 0x7fe278451f10>"
      ]
     },
     "execution_count": 17,
     "metadata": {},
     "output_type": "execute_result"
    },
    {
     "data": {
      "image/png": "[encoded data removed]",
      "text/plain": [
       "<Figure size 432x288 with 1 Axes>"
      ]
     },
     "metadata": {
      "needs_background": "light"
     },
     "output_type": "display_data"
    }
   ],
   "source": [
    "N = len(Y)\n",
    "dim = len(X[:,1])\n",
    "theta=1\n",
    "theta_1= 2\n",
    "w=np.array([1, -1, theta])\n",
    "w.shape=(len(w),1)\n",
    "w_1=np.array([0, 3, theta_1])\n",
    "w_1.shape=(len(w_1),1)\n",
    "## learning rate:\n",
    "eta=0.2\n",
    "\n",
    "\n",
    "fig1=plt.figure(1); plt.clf()\n",
    "sym=['x' if Y[i]<0 else 'o' for i in range(0,16)]\n",
    "col = ['b' if Y[i] < 0 else \"r\" for i in range(0,16)]   \n",
    "for i in range(0,16):\n",
    "    plt.plot(X[0,i],X[1,i],col[i]+sym[i],zorder=1,markersize=5)\n",
    "plt.xlabel(\"x1\")\n",
    "plt.ylabel(\"x2\")\n",
    "plt.title(\"Scatter plot of the 2 dimensional data and the Perceptron lines.\")\n",
    "\n",
    "## plot initial separation line:\n",
    "x=np.array([min(X[0,:])-1,max(X[0,:])+1]); \n",
    "hl,=plt.plot(x,(-x*w[0]+theta)/w[1],'-', label = \"Initial guess\")\n",
    "\n",
    "for i in range(0,N):\n",
    "    XX=X[:,i].T;XX.shape=(dim,1);XX=np.vstack([XX,-1])\n",
    "    Y_p = w.T @ XX\n",
    "    if (np.sign(Y_p) != np.sign(Y[i])) | (np.sign(Y_p)==0):\n",
    "        w = w+eta*Y[i]*XX\n",
    "        \n",
    "    \n",
    "print(\"W vector 1st Estimate\"); print(w)\n",
    "\n",
    "## plot 1st estimate of separation line:\n",
    "h2, = plt.plot(x, (-x*w[0]+theta)/w[1], '-', label = \"1st estimate\")\n",
    "\n",
    "for i in range(0,N):\n",
    "    XX=X[:,i].T;XX.shape=(dim,1);XX=np.vstack([XX,-1])\n",
    "    Y_p = w_1.T @ XX\n",
    "    if (np.sign(Y_p) != np.sign(Y[i])) | (np.sign(Y_p)==0):\n",
    "        w_1 = w_1+eta*Y[i]*XX\n",
    "\n",
    "print(\"W vector 2nd Estimate\"); print(w_1)\n",
    "h3, = plt.plot(x, (-x*w_1[0]+theta_1)/w_1[1], '-', label = \"2nd estimate\")\n",
    "plt.legend(loc='center left', bbox_to_anchor=(1, 0.5))"
   ]
  },
  {
   "cell_type": "code",
   "execution_count": 20,
   "id": "af022fa9",
   "metadata": {},
   "outputs": [],
   "source": [
    "def sigmoid(x):\n",
    "    return 1.0/(1.0+np.exp(-x))\n",
    "def softmax(x):\n",
    "    return np.exp(x)/np.sum(np.exp(x[:]))\n",
    "def tansig(x):\n",
    "    return 2/(1+np.exp(-2.0*x))-1\n",
    "def rectlin(x):\n",
    "    out=np.asarray(x); out[out<0]=0\n",
    "    return out\n"
   ]
  },
  {
   "cell_type": "code",
   "execution_count": 22,
   "id": "58a764e3",
   "metadata": {},
   "outputs": [],
   "source": [
    "\n",
    "w2=np.array([[-0.31314, 0.38796 ],\n",
    "[-0.60718, 0.67412 ],\n",
    "[ 2.8908, -1.5217 ]])\n",
    "b2=np.array([[ 0.81989 ],\n",
    "[ 0.81574 ],\n",
    "[ 3.674 ]])\n",
    "w3=np.array([[ -1.007, -1.7446, 5.1881 ],\n",
    "[ 16.877, -7.3917, -4.1027 ],\n",
    "[ 50.772, -21.437, -38.171 ]])\n",
    "b3=np.array([[-15.236 ],\n",
    "[-1.8673 ],\n",
    "[ 20.628 ]])\n",
    "w4=np.array([ 1.812, 44.299, -35.869 ])\n",
    "b4=np.array([ 5.2558 ])\n",
    "\n",
    "def neural_network(X):\n",
    "    X1 = w2 @ X + b2\n",
    "    Z1 = sigmoid(X1)\n",
    "    X2 = w3 @ Z1 + b3\n",
    "    Z2 = sigmoid(X2)\n",
    "    X3 = w4@Z2 + b4\n",
    "    out = rectlin(X3)\n",
    "    return out\n"
   ]
  },
  {
   "cell_type": "code",
   "execution_count": 70,
   "id": "9665385f",
   "metadata": {},
   "outputs": [
    {
     "data": {
      "text/plain": [
       "array([0.67313263])"
      ]
     },
     "execution_count": 70,
     "metadata": {},
     "output_type": "execute_result"
    }
   ],
   "source": [
    "rectlin(w4 @ sigmoid(w3 @ sigmoid(w2 @ np.array([[1.8], [1.1]]) + b2) + b3) + b4)"
   ]
  },
  {
   "cell_type": "code",
   "execution_count": 85,
   "id": "ec2806fd",
   "metadata": {},
   "outputs": [
    {
     "name": "stdout",
     "output_type": "stream",
     "text": [
      "10 randomly generated 2d inputs in range(1,2):\n",
      "[[1.37454012 1.95071431 1.73199394 1.59865848 1.15601864 1.15599452\n",
      "  1.05808361 1.86617615 1.60111501 1.70807258 1.02058449 1.96990985\n",
      "  1.83244264 1.21233911 1.18182497 1.18340451 1.30424224 1.52475643\n",
      "  1.43194502 1.29122914]\n",
      " [1.61185289 1.13949386 1.29214465 1.36636184 1.45606998 1.78517596\n",
      "  1.19967378 1.51423444 1.59241457 1.04645041 1.60754485 1.17052412\n",
      "  1.06505159 1.94888554 1.96563203 1.80839735 1.30461377 1.09767211\n",
      "  1.68423303 1.44015249]]\n",
      "Outputs :\n",
      "[[1.89161557 0.66617798 0.96508952 1.16902702 1.83542893 2.75867099\n",
      "  1.36180046 1.2298549  1.58498492 0.64209008 2.53344166 0.69605509\n",
      "  0.61993324 3.13446683 3.27092933 2.76527486 1.3065306  0.79128608\n",
      "  1.98249319 1.60773374]]\n"
     ]
    }
   ],
   "source": [
    "np.random.seed(42)\n",
    "inputs =  np.random.uniform(low=1.0, high=2.0, size=(2,20))\n",
    "inputs.shape = (2,20)\n",
    "print(\"10 randomly generated 2d inputs in range(1,2):\");print(inputs)\n",
    "outputs = neural_network(inputs) #Running the innputs through neural network to get the outputs\n",
    "outputs.shape = (1,20)\n",
    "print(\"Outputs :\"); print(outputs)"
   ]
  },
  {
   "cell_type": "code",
   "execution_count": null,
   "id": "91871dc6",
   "metadata": {},
   "outputs": [],
   "source": []
  },
  {
   "cell_type": "code",
   "execution_count": null,
   "id": "1e8dd3d6",
   "metadata": {},
   "outputs": [],
   "source": []
  },
  {
   "cell_type": "code",
   "execution_count": 84,
   "id": "090b2570",
   "metadata": {},
   "outputs": [
    {
     "data": {
      "text/plain": [
       "array([13.59347321])"
      ]
     },
     "execution_count": 84,
     "metadata": {},
     "output_type": "execute_result"
    }
   ],
   "source": [
    "neural_network(np.array([[-0.5], [3.5]]))"
   ]
  },
  {
   "cell_type": "code",
   "execution_count": null,
   "id": "71a79e74",
   "metadata": {},
   "outputs": [],
   "source": []
  }
 ],
 "metadata": {
  "kernelspec": {
   "display_name": "Python 3 (ipykernel)",
   "language": "python",
   "name": "python3"
  },
  "language_info": {
   "codemirror_mode": {
    "name": "ipython",
    "version": 3
   },
   "file_extension": ".py",
   "mimetype": "text/x-python",
   "name": "python",
   "nbconvert_exporter": "python",
   "pygments_lexer": "ipython3",
   "version": "3.9.12"
  }
 },
 "nbformat": 4,
 "nbformat_minor": 5
}
