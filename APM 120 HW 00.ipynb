{
 "cells": [
  {
   "cell_type": "code",
   "execution_count": 8,
   "id": "9bc320cc",
   "metadata": {},
   "outputs": [
    {
     "name": "stdout",
     "output_type": "stream",
     "text": [
      "-3.019806626980405e-14  = -3.01 * 10 ^ -14  which is almost equal to zero.\n"
     ]
    }
   ],
   "source": [
    "## Q3) (ii)\n",
    "import numpy as np\n",
    "B = np.array([[11, -9, 4], [10,-8,4], [-14,12,-4]])\n",
    "print(np.linalg.det(B), \" = -3.01 * 10 ^ -14 \", \"which is almost equal to zero.\" )\n"
   ]
  },
  {
   "cell_type": "code",
   "execution_count": 13,
   "id": "9a04e337",
   "metadata": {},
   "outputs": [
    {
     "name": "stdout",
     "output_type": "stream",
     "text": [
      "[[ 1.00000000e+00 -1.00000000e-05 -1.11022302e-16]\n",
      " [-5.55111512e-17  1.00000200e+00  0.00000000e+00]\n",
      " [ 0.00000000e+00 -5.00000000e-06  1.00000000e+00]] all ndiagonal elements are 1 and non diagonal are almost equal to 0, therefore A * A^-1 = I\n"
     ]
    }
   ],
   "source": [
    "## Q4) (ii)\n",
    "A = np.array([[3,4,4], [-0.6,-4.8, -7.8], [1.5,0.4,-10.8]])\n",
    "A_inv = np.array([[0.458, 0.37333, -0.1], [-0.1515, -0.32, 0.175], [0.058, 0.04, -0.1]])\n",
    "print(np.matmul(A, A_inv), \"all ndiagonal elements are 1 and non diagonal are almost equal to 0, therefore A * A^-1 = I\")\n",
    "\n",
    "\n"
   ]
  },
  {
   "cell_type": "code",
   "execution_count": 28,
   "id": "416d3324",
   "metadata": {},
   "outputs": [
    {
     "name": "stdout",
     "output_type": "stream",
     "text": [
      "Eigen Values: [-2.00000000e+00  1.60175692e-14  1.00000000e+00]\n",
      " Eigen Vectors: [[ 0.57735027  0.66666667  0.33333333]\n",
      " [ 0.57735027  0.66666667  0.66666667]\n",
      " [-0.57735027 -0.33333333  0.66666667]]\n",
      "B * e = [-1.15470054 -1.15470054  1.15470054]\n",
      "lambda * e = [-1.15470054 -1.15470054  1.15470054]\n",
      "Therefore B * e = lambda * e\n"
     ]
    }
   ],
   "source": [
    "## Q7) (ii)\n",
    "D, V = np.linalg.eig(B)\n",
    "print(\"Eigen Values:\",D),\n",
    "print(\" Eigen Vectors:\",V)\n",
    "## (iii)\n",
    "## -2 is the largest absolute eigen value, so the 1st column in V , V[:, 0]is \n",
    "#the corresponding eigen vector & D[0] is the lambda\n",
    "print(\"B * e =\", B@V[:,0]),\n",
    "print(\"lambda * e =\",D[0]*V[:,0]),\n",
    "print(\"Therefore B * e = lambda * e\")"
   ]
  },
  {
   "cell_type": "code",
   "execution_count": 32,
   "id": "84f94ab8",
   "metadata": {},
   "outputs": [
    {
     "name": "stdout",
     "output_type": "stream",
     "text": [
      "H =  [[ 3.00000000e+00 -6.66133815e-16]\n",
      " [ 0.00000000e+00  6.00000000e+00]]\n",
      "Eigen Values of P:  [3. 6.]\n",
      "We can see the diagonal elements of H are equal to eigen values of P\n"
     ]
    }
   ],
   "source": [
    "## Q 8) (ii)\n",
    "U = np.array([[-2/np.sqrt(5), 1/np.sqrt(2)], [1/np.sqrt(5), 1/np.sqrt(2)]])\n",
    "P = np.array([[4,2], [1,5]])\n",
    "U_inv = np.linalg.inv(U)\n",
    "H = np.matmul(np.matmul(U_inv, P), U)\n",
    "eig_val, eig_vec = np.linalg.eig(P)\n",
    "print(\"H = \",H),\n",
    "print(\"Eigen Values of P: \", eig_val),\n",
    "print(\"We can see the diagonal elements of H are equal to eigen values of P\")"
   ]
  },
  {
   "cell_type": "code",
   "execution_count": 34,
   "id": "34ce442f",
   "metadata": {},
   "outputs": [
    {
     "data": {
      "image/png": "[encoded data removed]",
      "text/plain": [
       "<Figure size 432x288 with 1 Axes>"
      ]
     },
     "metadata": {
      "needs_background": "light"
     },
     "output_type": "display_data"
    }
   ],
   "source": [
    "## Q 12) (i)\n",
    "import scipy as scipy\n",
    "import matplotlib.pyplot as plt\n",
    "import matplotlib\n",
    "from math import pi\n",
    "\n",
    "## Plot $f(x)=\\cos(3x)$ vs $x$ for $x=(-2\\pi,\\pi)$:\n",
    "x=np.arange(2*pi,3*pi,0.1);\n",
    "f=2*np.exp(-x/2)*np.sin(2*x);\n",
    "plt.figure(1);plt.clf();\n",
    "plt.plot(x,f)\n",
    "# always label axes and provide titles:\n",
    "plt.xlabel('x')\n",
    "plt.ylabel('f')\n",
    "plt.title('f(x)= 2*e^-x/2*sin(2x)')\n",
    "plt.show();\n",
    "\n",
    "\n"
   ]
  },
  {
   "cell_type": "code",
   "execution_count": 36,
   "id": "40631711",
   "metadata": {},
   "outputs": [
    {
     "name": "stdout",
     "output_type": "stream",
     "text": [
      "determinant of A:\n",
      "120.00000000000009\n",
      "solution using matrix inverse is:\n",
      "x2=np.linalg.inv(A)@b=\n",
      "[ 0.47733333 -0.802      -0.056     ]\n",
      "same as the solution from gaussian elimination\n",
      "checking that x is a solution; A*x2:\n",
      "[-2.  4.  1.]\n",
      "b:\n",
      "[-2  4  1]\n"
     ]
    }
   ],
   "source": [
    "## Q 12) (ii)\n",
    "## Solve a linear equations $Ax=b$:\n",
    "A=np.array([[3,4,4],[-0.6, -4.8, -7.8],[1.5,0.4,-10.8]]);\n",
    "b=np.array([-2, 4, 1]);\n",
    "print('determinant of A:')\n",
    "print(np.linalg.det(A))\n",
    "print('solution using matrix inverse is:')\n",
    "x2=np.linalg.inv(A)@b; print(\"x2=np.linalg.inv(A)@b=\"); print(x2);print(\"same as the solution from gaussian elimination\")\n",
    "print('checking that x is a solution; A*x2:')\n",
    "print(A@x2)\n",
    "print('b:')\n",
    "print(b)\n",
    "\n",
    "\n"
   ]
  },
  {
   "cell_type": "code",
   "execution_count": null,
   "id": "ce95f8be",
   "metadata": {},
   "outputs": [],
   "source": []
  },
  {
   "cell_type": "code",
   "execution_count": null,
   "id": "aa565c62",
   "metadata": {},
   "outputs": [],
   "source": []
  },
  {
   "cell_type": "code",
   "execution_count": null,
   "id": "814b5da6",
   "metadata": {},
   "outputs": [],
   "source": []
  }
 ],
 "metadata": {
  "kernelspec": {
   "display_name": "Python 3 (ipykernel)",
   "language": "python",
   "name": "python3"
  },
  "language_info": {
   "codemirror_mode": {
    "name": "ipython",
    "version": 3
   },
   "file_extension": ".py",
   "mimetype": "text/x-python",
   "name": "python",
   "nbconvert_exporter": "python",
   "pygments_lexer": "ipython3",
   "version": "3.9.12"
  }
 },
 "nbformat": 4,
 "nbformat_minor": 5
}
