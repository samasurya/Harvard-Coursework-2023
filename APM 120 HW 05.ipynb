{
 "cells": [
  {
   "cell_type": "code",
   "execution_count": 1,
   "id": "eb6783c1",
   "metadata": {},
   "outputs": [],
   "source": [
    "import numpy as np"
   ]
  },
  {
   "cell_type": "code",
   "execution_count": 11,
   "id": "3703f8c7",
   "metadata": {},
   "outputs": [
    {
     "name": "stdout",
     "output_type": "stream",
     "text": [
      "The Matrix A = \n",
      "[[ 4  1  3]\n",
      " [-4 -2 -5]\n",
      " [ 3 -1 -4]\n",
      " [ 0  4 -1]]\n",
      "The b vector = \n",
      "[[ 0]\n",
      " [ 5]\n",
      " [-1]\n",
      " [-2]]\n",
      "The Least squares solution (A.T A)^-1 A.T b = x = \n",
      "[[-0.40227759]\n",
      " [-0.56657582]\n",
      " [-0.07037181]]\n",
      "The residual vector r = \n",
      "[[-2.38680164]\n",
      " [-1.90587892]\n",
      " [ 0.64123029]\n",
      " [-0.19593148]]\n",
      "norm of r = \n",
      "3.1271012013207278\n",
      "norm of b = \n",
      "5.477225575051662\n",
      "Python solution using np.linalg.lstsq, x = \n",
      "[[-0.40227759]\n",
      " [-0.56657582]\n",
      " [-0.07037181]]\n",
      "r = \n",
      "[9.77876192]\n"
     ]
    }
   ],
   "source": [
    "A = np.array([[4,1,3], [-4,-2,-5],[3,-1,-4], [0,4,-1]])\n",
    "b = np.array([[0], [5], [-1], [-2]])\n",
    "print(\"The Matrix A = \"); print(A)\n",
    "print(\"The b vector = \"); print(b)\n",
    "x = np.linalg.inv(np.matmul(A.T, A)) @ A.T @b\n",
    "print('The Least squares solution (A.T A)^-1 A.T b = x = '); print(x)\n",
    "r= A@x - b\n",
    "print(\"The residual vector r = \"); print(r); print(\"norm of r = \") ;print(np.linalg.norm(r,2))\n",
    "print(\"norm of b = \") ;print(np.linalg.norm(b,2))\n",
    "x1,residuals,rank,sigma=np.linalg.lstsq(A,b,rcond=None)\n",
    "print(\"Python solution using np.linalg.lstsq, x = \"); print(x1); print(\"r = \"); print(residuals)"
   ]
  },
  {
   "cell_type": "code",
   "execution_count": 14,
   "id": "da4fdc92",
   "metadata": {},
   "outputs": [],
   "source": [
    "import scipy.linalg"
   ]
  },
  {
   "cell_type": "code",
   "execution_count": 32,
   "id": "452db6e1",
   "metadata": {},
   "outputs": [
    {
     "name": "stdout",
     "output_type": "stream",
     "text": [
      "[[ 0.50013875  0.86594528]\n",
      " [-0.86594528  0.50013875]]\n",
      "[1.1684391 0.6817258]\n",
      "[[-0.76410634  0.07881892 -0.64025704]\n",
      " [ 0.60438704 -0.25950033 -0.75324358]\n",
      " [-0.22551676 -0.96252125  0.15064872]]\n",
      "Solution using x2=scipy.linalg.pinv(A)@b = \n",
      "[[ 0.53900709]\n",
      " [-0.24822695]\n",
      " [ 1.04964539]]\n",
      "The least squares solution to the under determined system is x = \n",
      "[[ 0.53900709]\n",
      " [-0.24822695]\n",
      " [ 1.04964539]]\n"
     ]
    }
   ],
   "source": [
    "a = np.array([[-0.4, 0.2, -0.7], [0.8, -0.7, -0.1]])\n",
    "bb = np.array([[-1], [0.5]])\n",
    "U, S, V = scipy.linalg.svd(a)\n",
    "print(U);print(S); print(V.T)\n",
    "x2=scipy.linalg.pinv(a)@bb\n",
    "print(\"Solution using x2=scipy.linalg.pinv(A)@b = \"); print(x2)\n",
    "x3, residuals, rank, sigma = np.linalg.lstsq(a, bb,rcond = None)\n",
    "print(\"The least squares solution to the under determined system is x = \"); print(x3)"
   ]
  },
  {
   "cell_type": "code",
   "execution_count": null,
   "id": "9edba57d",
   "metadata": {},
   "outputs": [],
   "source": []
  },
  {
   "cell_type": "code",
   "execution_count": null,
   "id": "a0fbd68e",
   "metadata": {},
   "outputs": [],
   "source": []
  },
  {
   "cell_type": "code",
   "execution_count": null,
   "id": "4a187c6b",
   "metadata": {},
   "outputs": [],
   "source": []
  }
 ],
 "metadata": {
  "kernelspec": {
   "display_name": "Python 3 (ipykernel)",
   "language": "python",
   "name": "python3"
  },
  "language_info": {
   "codemirror_mode": {
    "name": "ipython",
    "version": 3
   },
   "file_extension": ".py",
   "mimetype": "text/x-python",
   "name": "python",
   "nbconvert_exporter": "python",
   "pygments_lexer": "ipython3",
   "version": "3.9.12"
  }
 },
 "nbformat": 4,
 "nbformat_minor": 5
}
